{
 "cells": [
  {
   "cell_type": "code",
   "execution_count": null,
   "metadata": {},
   "outputs": [],
   "source": [
    "import numpy as np\n",
    "import pandas as pd\n",
    "from dash import dash"
   ]
  },
  {
   "cell_type": "code",
   "execution_count": null,
   "metadata": {},
   "outputs": [],
   "source": [
    "from ProjektZaliczeniowy import Dashboard"
   ]
  },
  {
   "cell_type": "code",
   "execution_count": null,
   "metadata": {},
   "outputs": [],
   "source": [
    "def set_settings():\n",
    "    pd.set_option('display.max_columns', None)\n",
    "    pd.set_option('display.max_rows', None)\n",
    "    pd.set_option('display.width', None)"
   ]
  },
  {
   "cell_type": "code",
   "execution_count": null,
   "metadata": {},
   "outputs": [],
   "source": [
    "def get_data_from_file(file_name):\n",
    "    data_ = pd.read_csv(file_name)\n",
    "    return data_"
   ]
  },
  {
   "cell_type": "code",
   "execution_count": null,
   "metadata": {},
   "outputs": [],
   "source": [
    "def get_data_in_numpy_array(pd_array):\n",
    "    data_1 = np.array(pd_array)\n",
    "    return data_1"
   ]
  },
  {
   "cell_type": "code",
   "execution_count": null,
   "metadata": {},
   "outputs": [],
   "source": [
    "def outlier_data(out_data):\n",
    "    # Zastosowanie zasady IQR do identyfikacji danych odstajÄ…cych\n",
    "    Q1 = out_data['price'].quantile(0.25) #Pierwszy kwartyl\n",
    "    Q3 = out_data['price'].quantile(0.75) #Trzeci kwartyl\n",
    "    IQR = Q3 - Q1  # RozstÄ™p Ä‡wiartkowy rĂłĹĽnica miÄ™dzy trzecim a pierwszym kwartylem\n",
    "    lower_bound = Q1 - 1.5 * IQR # Dolna granica\n",
    "    upper_bound = Q3 + 1.5 * IQR # GĂłrna granica\n",
    "    out_data = out_data[(out_data['price'] >= lower_bound) & (out_data['price'] <= upper_bound)]\n",
    "\n",
    "    # print(\"Dane odstajÄ…ce:\")\n",
    "    return out_data"
   ]
  },
  {
   "cell_type": "code",
   "execution_count": null,
   "metadata": {},
   "outputs": [],
   "source": [
    "def data_clean(data):\n",
    "    # UsuniÄ™cie spacji przed nazwami kolumn\n",
    "    data.columns = [col.strip() for col in data.columns]\n",
    "    # print(data.info())\n",
    "    # print(data['price'].describe())\n",
    "\n",
    "    # Zmiana bĹ‚Ä™dnych/pustych wartoĹ›ci na NaN\n",
    "    data = data.replace({\"\": np.nan, \" \": np.nan})\n",
    "    # print(data.isna().any())\n",
    "    # print(data.isna().sum())\n",
    "\n",
    "    # Zmiana na duĹĽe litery dla zgodnoĹ›ci\n",
    "    data['cut'] = data['cut'].str.upper()\n",
    "    data['color'] = data['color'].str.upper()\n",
    "    data['clarity'] = data['clarity'].str.upper()\n",
    "\n",
    "    # UsuniÄ™cie wierszy dla wartoĹ›ci NaN w kolumnie price\n",
    "    data = data.dropna(subset=['price'])\n",
    "\n",
    "    # Wstawienie mediany dla pĂłl carat, x dimension, y dimension, z dimension, depth, table\n",
    "    data['carat'].fillna(data['carat'].median(), inplace=True)\n",
    "    data['x dimension'].fillna(data['x dimension'].median(), inplace=True)\n",
    "    data['y dimension'].fillna(data['y dimension'].median(), inplace=True)\n",
    "    data['z dimension'].fillna(data['z dimension'].median(), inplace=True)\n",
    "    data['depth'].fillna(data['depth'].median(), inplace=True)\n",
    "    data['table'].fillna(data['table'].median(), inplace=True)\n",
    "\n",
    "    # Konwersja danych na poprawny typ\n",
    "    data['price'] = data['price'].astype('float64')\n",
    "    data['carat'] = data['carat'].astype('float64')\n",
    "    data['x dimension'] = data['x dimension'].astype('float64')\n",
    "    data['y dimension'] = data['y dimension'].astype('float64')\n",
    "    data['z dimension'] = data['z dimension'].astype('float64')\n",
    "    data['depth'] = data['depth'].astype('float64')\n",
    "    data['table'] = data['table'].astype('int64')\n",
    "    data['clarity'] = data['clarity'].astype('string')\n",
    "    data['color'] = data['color'].astype('string')\n",
    "    data['cut'] = data['cut'].astype('string')\n",
    "\n",
    "    # UsuniÄ™cie wartoĹ›ci odstajÄ…cych\n",
    "    data = outlier_data(data)\n",
    "    # print(data)\n",
    "\n",
    "    # Suma zduplikowanych wartoĹ›ci\n",
    "    # print(data.duplicated().sum())\n",
    "\n",
    "    # WartoĹ›ci w tych kolumnach posiadajÄ… poprawnÄ… wartoĹ›Ä‡ ze zbioru co wskazuje na to ĹĽe sÄ… najbardziej prawdopodobnie rzeczywiste\n",
    "    # UsuniÄ™cie duplikatĂłw\n",
    "    data = data.drop_duplicates(subset=[\"clarity\", \"color\", \"cut\", 'x dimension'], keep='first')\n",
    "    # print(data)\n",
    "    return data"
   ]
  },
  {
   "cell_type": "code",
   "execution_count": null,
   "metadata": {},
   "outputs": [],
   "source": [
    "if __name__ == '__main__':\n",
    "    app = dash.Dash(__name__)\n",
    "    set_settings()\n",
    "    data_from_file = get_data_from_file('Dane/messy_data.csv')\n",
    "    cleaned_data = data_clean(data_from_file)\n",
    "    Dashboard.dashboard_creation(cleaned_data, app)"
   ]
  }
 ],
 "metadata": {
  "kernelspec": {
   "display_name": "Python 3",
   "language": "python",
   "name": "python3"
  },
  "language_info": {
   "codemirror_mode": {
    "name": "ipython",
    "version": 3
   },
   "file_extension": ".py",
   "mimetype": "text/x-python",
   "name": "python",
   "nbconvert_exporter": "python",
   "pygments_lexer": "ipython3",
   "version": "3.6.4"
  }
 },
 "nbformat": 4,
 "nbformat_minor": 2
}
